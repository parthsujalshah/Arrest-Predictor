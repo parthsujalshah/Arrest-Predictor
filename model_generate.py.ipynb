{
 "cells": [
  {
   "cell_type": "code",
   "execution_count": 19,
   "id": "93520a93",
   "metadata": {},
   "outputs": [],
   "source": [
    "import warnings\n",
    "warnings.filterwarnings('ignore')"
   ]
  },
  {
   "cell_type": "code",
   "execution_count": 20,
   "id": "ace0961d",
   "metadata": {},
   "outputs": [],
   "source": [
    "import pandas as pd"
   ]
  },
  {
   "cell_type": "code",
   "execution_count": 21,
   "id": "efe88886",
   "metadata": {},
   "outputs": [],
   "source": [
    "df = pd.read_csv('data.csv')"
   ]
  },
  {
   "cell_type": "code",
   "execution_count": 22,
   "id": "cdd8cb0d",
   "metadata": {},
   "outputs": [
    {
     "data": {
      "text/html": [
       "<div>\n",
       "<style scoped>\n",
       "    .dataframe tbody tr th:only-of-type {\n",
       "        vertical-align: middle;\n",
       "    }\n",
       "\n",
       "    .dataframe tbody tr th {\n",
       "        vertical-align: top;\n",
       "    }\n",
       "\n",
       "    .dataframe thead th {\n",
       "        text-align: right;\n",
       "    }\n",
       "</style>\n",
       "<table border=\"1\" class=\"dataframe\">\n",
       "  <thead>\n",
       "    <tr style=\"text-align: right;\">\n",
       "      <th></th>\n",
       "      <th>Unnamed: 0</th>\n",
       "      <th>Unnamed: 0.1</th>\n",
       "      <th>Unnamed: 0.1.1</th>\n",
       "      <th>ID</th>\n",
       "      <th>Case Number</th>\n",
       "      <th>Date</th>\n",
       "      <th>Block</th>\n",
       "      <th>IUCR</th>\n",
       "      <th>Primary Type</th>\n",
       "      <th>Description</th>\n",
       "      <th>...</th>\n",
       "      <th>Ward</th>\n",
       "      <th>Community Area</th>\n",
       "      <th>FBI Code</th>\n",
       "      <th>X Coordinate</th>\n",
       "      <th>Y Coordinate</th>\n",
       "      <th>Year</th>\n",
       "      <th>Updated On</th>\n",
       "      <th>Latitude</th>\n",
       "      <th>Longitude</th>\n",
       "      <th>Location</th>\n",
       "    </tr>\n",
       "  </thead>\n",
       "  <tbody>\n",
       "    <tr>\n",
       "      <th>0</th>\n",
       "      <td>0</td>\n",
       "      <td>0</td>\n",
       "      <td>3</td>\n",
       "      <td>10508693</td>\n",
       "      <td>HZ250496</td>\n",
       "      <td>05/03/2016 11:40:00 PM</td>\n",
       "      <td>013XX S SAWYER AVE</td>\n",
       "      <td>0486</td>\n",
       "      <td>BATTERY</td>\n",
       "      <td>DOMESTIC BATTERY SIMPLE</td>\n",
       "      <td>...</td>\n",
       "      <td>24.0</td>\n",
       "      <td>29.0</td>\n",
       "      <td>08B</td>\n",
       "      <td>1154907.0</td>\n",
       "      <td>1893681.0</td>\n",
       "      <td>2016</td>\n",
       "      <td>05/10/2016 03:56:50 PM</td>\n",
       "      <td>41.864073</td>\n",
       "      <td>-87.706819</td>\n",
       "      <td>(41.864073157, -87.706818608)</td>\n",
       "    </tr>\n",
       "    <tr>\n",
       "      <th>1</th>\n",
       "      <td>1</td>\n",
       "      <td>1</td>\n",
       "      <td>89</td>\n",
       "      <td>10508695</td>\n",
       "      <td>HZ250409</td>\n",
       "      <td>05/03/2016 09:40:00 PM</td>\n",
       "      <td>061XX S DREXEL AVE</td>\n",
       "      <td>0486</td>\n",
       "      <td>BATTERY</td>\n",
       "      <td>DOMESTIC BATTERY SIMPLE</td>\n",
       "      <td>...</td>\n",
       "      <td>20.0</td>\n",
       "      <td>42.0</td>\n",
       "      <td>08B</td>\n",
       "      <td>1183066.0</td>\n",
       "      <td>1864330.0</td>\n",
       "      <td>2016</td>\n",
       "      <td>05/10/2016 03:56:50 PM</td>\n",
       "      <td>41.782922</td>\n",
       "      <td>-87.604363</td>\n",
       "      <td>(41.782921527, -87.60436317)</td>\n",
       "    </tr>\n",
       "    <tr>\n",
       "      <th>2</th>\n",
       "      <td>2</td>\n",
       "      <td>2</td>\n",
       "      <td>197</td>\n",
       "      <td>10508697</td>\n",
       "      <td>HZ250503</td>\n",
       "      <td>05/03/2016 11:31:00 PM</td>\n",
       "      <td>053XX W CHICAGO AVE</td>\n",
       "      <td>0470</td>\n",
       "      <td>PUBLIC PEACE VIOLATION</td>\n",
       "      <td>RECKLESS CONDUCT</td>\n",
       "      <td>...</td>\n",
       "      <td>37.0</td>\n",
       "      <td>25.0</td>\n",
       "      <td>24</td>\n",
       "      <td>1140789.0</td>\n",
       "      <td>1904819.0</td>\n",
       "      <td>2016</td>\n",
       "      <td>05/10/2016 03:56:50 PM</td>\n",
       "      <td>41.894908</td>\n",
       "      <td>-87.758372</td>\n",
       "      <td>(41.894908283, -87.758371958)</td>\n",
       "    </tr>\n",
       "    <tr>\n",
       "      <th>3</th>\n",
       "      <td>3</td>\n",
       "      <td>3</td>\n",
       "      <td>673</td>\n",
       "      <td>10508698</td>\n",
       "      <td>HZ250424</td>\n",
       "      <td>05/03/2016 10:10:00 PM</td>\n",
       "      <td>049XX W FULTON ST</td>\n",
       "      <td>0460</td>\n",
       "      <td>BATTERY</td>\n",
       "      <td>SIMPLE</td>\n",
       "      <td>...</td>\n",
       "      <td>28.0</td>\n",
       "      <td>25.0</td>\n",
       "      <td>08B</td>\n",
       "      <td>1143223.0</td>\n",
       "      <td>1901475.0</td>\n",
       "      <td>2016</td>\n",
       "      <td>05/10/2016 03:56:50 PM</td>\n",
       "      <td>41.885687</td>\n",
       "      <td>-87.749516</td>\n",
       "      <td>(41.885686845, -87.749515983)</td>\n",
       "    </tr>\n",
       "    <tr>\n",
       "      <th>4</th>\n",
       "      <td>4</td>\n",
       "      <td>4</td>\n",
       "      <td>911</td>\n",
       "      <td>10508699</td>\n",
       "      <td>HZ250455</td>\n",
       "      <td>05/03/2016 10:00:00 PM</td>\n",
       "      <td>003XX N LOTUS AVE</td>\n",
       "      <td>0820</td>\n",
       "      <td>THEFT</td>\n",
       "      <td>$500 AND UNDER</td>\n",
       "      <td>...</td>\n",
       "      <td>28.0</td>\n",
       "      <td>25.0</td>\n",
       "      <td>06</td>\n",
       "      <td>1139890.0</td>\n",
       "      <td>1901675.0</td>\n",
       "      <td>2016</td>\n",
       "      <td>05/10/2016 03:56:50 PM</td>\n",
       "      <td>41.886297</td>\n",
       "      <td>-87.761751</td>\n",
       "      <td>(41.886297242, -87.761750709)</td>\n",
       "    </tr>\n",
       "    <tr>\n",
       "      <th>...</th>\n",
       "      <td>...</td>\n",
       "      <td>...</td>\n",
       "      <td>...</td>\n",
       "      <td>...</td>\n",
       "      <td>...</td>\n",
       "      <td>...</td>\n",
       "      <td>...</td>\n",
       "      <td>...</td>\n",
       "      <td>...</td>\n",
       "      <td>...</td>\n",
       "      <td>...</td>\n",
       "      <td>...</td>\n",
       "      <td>...</td>\n",
       "      <td>...</td>\n",
       "      <td>...</td>\n",
       "      <td>...</td>\n",
       "      <td>...</td>\n",
       "      <td>...</td>\n",
       "      <td>...</td>\n",
       "      <td>...</td>\n",
       "      <td>...</td>\n",
       "    </tr>\n",
       "    <tr>\n",
       "      <th>1456709</th>\n",
       "      <td>1456709</td>\n",
       "      <td>1456709</td>\n",
       "      <td>6250330</td>\n",
       "      <td>10508679</td>\n",
       "      <td>HZ250507</td>\n",
       "      <td>05/03/2016 11:33:00 PM</td>\n",
       "      <td>026XX W 23RD PL</td>\n",
       "      <td>0486</td>\n",
       "      <td>BATTERY</td>\n",
       "      <td>DOMESTIC BATTERY SIMPLE</td>\n",
       "      <td>...</td>\n",
       "      <td>28.0</td>\n",
       "      <td>30.0</td>\n",
       "      <td>08B</td>\n",
       "      <td>1159105.0</td>\n",
       "      <td>1888300.0</td>\n",
       "      <td>2016</td>\n",
       "      <td>05/10/2016 03:56:50 PM</td>\n",
       "      <td>41.849222</td>\n",
       "      <td>-87.691556</td>\n",
       "      <td>(41.849222028, -87.69155551)</td>\n",
       "    </tr>\n",
       "    <tr>\n",
       "      <th>1456710</th>\n",
       "      <td>1456710</td>\n",
       "      <td>1456710</td>\n",
       "      <td>6251089</td>\n",
       "      <td>10508680</td>\n",
       "      <td>HZ250491</td>\n",
       "      <td>05/03/2016 11:30:00 PM</td>\n",
       "      <td>073XX S HARVARD AVE</td>\n",
       "      <td>1310</td>\n",
       "      <td>CRIMINAL DAMAGE</td>\n",
       "      <td>TO PROPERTY</td>\n",
       "      <td>...</td>\n",
       "      <td>17.0</td>\n",
       "      <td>69.0</td>\n",
       "      <td>14</td>\n",
       "      <td>1175230.0</td>\n",
       "      <td>1856183.0</td>\n",
       "      <td>2016</td>\n",
       "      <td>05/10/2016 03:56:50 PM</td>\n",
       "      <td>41.760744</td>\n",
       "      <td>-87.633335</td>\n",
       "      <td>(41.760743949, -87.63333531)</td>\n",
       "    </tr>\n",
       "    <tr>\n",
       "      <th>1456711</th>\n",
       "      <td>1456711</td>\n",
       "      <td>1456711</td>\n",
       "      <td>6251349</td>\n",
       "      <td>10508681</td>\n",
       "      <td>HZ250479</td>\n",
       "      <td>05/03/2016 12:15:00 AM</td>\n",
       "      <td>024XX W 63RD ST</td>\n",
       "      <td>041A</td>\n",
       "      <td>BATTERY</td>\n",
       "      <td>AGGRAVATED: HANDGUN</td>\n",
       "      <td>...</td>\n",
       "      <td>15.0</td>\n",
       "      <td>66.0</td>\n",
       "      <td>04B</td>\n",
       "      <td>1161027.0</td>\n",
       "      <td>1862810.0</td>\n",
       "      <td>2016</td>\n",
       "      <td>05/10/2016 03:56:50 PM</td>\n",
       "      <td>41.779235</td>\n",
       "      <td>-87.685207</td>\n",
       "      <td>(41.779234743, -87.685207125)</td>\n",
       "    </tr>\n",
       "    <tr>\n",
       "      <th>1456712</th>\n",
       "      <td>1456712</td>\n",
       "      <td>1456712</td>\n",
       "      <td>6253257</td>\n",
       "      <td>10508690</td>\n",
       "      <td>HZ250370</td>\n",
       "      <td>05/03/2016 09:07:00 PM</td>\n",
       "      <td>082XX S EXCHANGE AVE</td>\n",
       "      <td>0486</td>\n",
       "      <td>BATTERY</td>\n",
       "      <td>DOMESTIC BATTERY SIMPLE</td>\n",
       "      <td>...</td>\n",
       "      <td>7.0</td>\n",
       "      <td>46.0</td>\n",
       "      <td>08B</td>\n",
       "      <td>1197261.0</td>\n",
       "      <td>1850727.0</td>\n",
       "      <td>2016</td>\n",
       "      <td>05/10/2016 03:56:50 PM</td>\n",
       "      <td>41.745252</td>\n",
       "      <td>-87.552773</td>\n",
       "      <td>(41.745251975, -87.552773464)</td>\n",
       "    </tr>\n",
       "    <tr>\n",
       "      <th>1456713</th>\n",
       "      <td>1456713</td>\n",
       "      <td>1456713</td>\n",
       "      <td>6253474</td>\n",
       "      <td>10508692</td>\n",
       "      <td>HZ250517</td>\n",
       "      <td>05/03/2016 11:38:00 PM</td>\n",
       "      <td>001XX E 75TH ST</td>\n",
       "      <td>5007</td>\n",
       "      <td>OTHER OFFENSE</td>\n",
       "      <td>OTHER WEAPONS VIOLATION</td>\n",
       "      <td>...</td>\n",
       "      <td>6.0</td>\n",
       "      <td>69.0</td>\n",
       "      <td>26</td>\n",
       "      <td>1178696.0</td>\n",
       "      <td>1855324.0</td>\n",
       "      <td>2016</td>\n",
       "      <td>05/10/2016 03:56:50 PM</td>\n",
       "      <td>41.758309</td>\n",
       "      <td>-87.620658</td>\n",
       "      <td>(41.75830866, -87.620658418)</td>\n",
       "    </tr>\n",
       "  </tbody>\n",
       "</table>\n",
       "<p>1456714 rows × 25 columns</p>\n",
       "</div>"
      ],
      "text/plain": [
       "         Unnamed: 0  Unnamed: 0.1  Unnamed: 0.1.1        ID Case Number  \\\n",
       "0                 0             0               3  10508693    HZ250496   \n",
       "1                 1             1              89  10508695    HZ250409   \n",
       "2                 2             2             197  10508697    HZ250503   \n",
       "3                 3             3             673  10508698    HZ250424   \n",
       "4                 4             4             911  10508699    HZ250455   \n",
       "...             ...           ...             ...       ...         ...   \n",
       "1456709     1456709       1456709         6250330  10508679    HZ250507   \n",
       "1456710     1456710       1456710         6251089  10508680    HZ250491   \n",
       "1456711     1456711       1456711         6251349  10508681    HZ250479   \n",
       "1456712     1456712       1456712         6253257  10508690    HZ250370   \n",
       "1456713     1456713       1456713         6253474  10508692    HZ250517   \n",
       "\n",
       "                           Date                 Block  IUCR  \\\n",
       "0        05/03/2016 11:40:00 PM    013XX S SAWYER AVE  0486   \n",
       "1        05/03/2016 09:40:00 PM    061XX S DREXEL AVE  0486   \n",
       "2        05/03/2016 11:31:00 PM   053XX W CHICAGO AVE  0470   \n",
       "3        05/03/2016 10:10:00 PM     049XX W FULTON ST  0460   \n",
       "4        05/03/2016 10:00:00 PM     003XX N LOTUS AVE  0820   \n",
       "...                         ...                   ...   ...   \n",
       "1456709  05/03/2016 11:33:00 PM       026XX W 23RD PL  0486   \n",
       "1456710  05/03/2016 11:30:00 PM   073XX S HARVARD AVE  1310   \n",
       "1456711  05/03/2016 12:15:00 AM       024XX W 63RD ST  041A   \n",
       "1456712  05/03/2016 09:07:00 PM  082XX S EXCHANGE AVE  0486   \n",
       "1456713  05/03/2016 11:38:00 PM       001XX E 75TH ST  5007   \n",
       "\n",
       "                   Primary Type              Description  ...  Ward  \\\n",
       "0                       BATTERY  DOMESTIC BATTERY SIMPLE  ...  24.0   \n",
       "1                       BATTERY  DOMESTIC BATTERY SIMPLE  ...  20.0   \n",
       "2        PUBLIC PEACE VIOLATION         RECKLESS CONDUCT  ...  37.0   \n",
       "3                       BATTERY                   SIMPLE  ...  28.0   \n",
       "4                         THEFT           $500 AND UNDER  ...  28.0   \n",
       "...                         ...                      ...  ...   ...   \n",
       "1456709                 BATTERY  DOMESTIC BATTERY SIMPLE  ...  28.0   \n",
       "1456710         CRIMINAL DAMAGE              TO PROPERTY  ...  17.0   \n",
       "1456711                 BATTERY      AGGRAVATED: HANDGUN  ...  15.0   \n",
       "1456712                 BATTERY  DOMESTIC BATTERY SIMPLE  ...   7.0   \n",
       "1456713           OTHER OFFENSE  OTHER WEAPONS VIOLATION  ...   6.0   \n",
       "\n",
       "         Community Area  FBI Code  X Coordinate  Y Coordinate  Year  \\\n",
       "0                  29.0       08B     1154907.0     1893681.0  2016   \n",
       "1                  42.0       08B     1183066.0     1864330.0  2016   \n",
       "2                  25.0        24     1140789.0     1904819.0  2016   \n",
       "3                  25.0       08B     1143223.0     1901475.0  2016   \n",
       "4                  25.0        06     1139890.0     1901675.0  2016   \n",
       "...                 ...       ...           ...           ...   ...   \n",
       "1456709            30.0       08B     1159105.0     1888300.0  2016   \n",
       "1456710            69.0        14     1175230.0     1856183.0  2016   \n",
       "1456711            66.0       04B     1161027.0     1862810.0  2016   \n",
       "1456712            46.0       08B     1197261.0     1850727.0  2016   \n",
       "1456713            69.0        26     1178696.0     1855324.0  2016   \n",
       "\n",
       "                     Updated On   Latitude  Longitude  \\\n",
       "0        05/10/2016 03:56:50 PM  41.864073 -87.706819   \n",
       "1        05/10/2016 03:56:50 PM  41.782922 -87.604363   \n",
       "2        05/10/2016 03:56:50 PM  41.894908 -87.758372   \n",
       "3        05/10/2016 03:56:50 PM  41.885687 -87.749516   \n",
       "4        05/10/2016 03:56:50 PM  41.886297 -87.761751   \n",
       "...                         ...        ...        ...   \n",
       "1456709  05/10/2016 03:56:50 PM  41.849222 -87.691556   \n",
       "1456710  05/10/2016 03:56:50 PM  41.760744 -87.633335   \n",
       "1456711  05/10/2016 03:56:50 PM  41.779235 -87.685207   \n",
       "1456712  05/10/2016 03:56:50 PM  41.745252 -87.552773   \n",
       "1456713  05/10/2016 03:56:50 PM  41.758309 -87.620658   \n",
       "\n",
       "                              Location  \n",
       "0        (41.864073157, -87.706818608)  \n",
       "1         (41.782921527, -87.60436317)  \n",
       "2        (41.894908283, -87.758371958)  \n",
       "3        (41.885686845, -87.749515983)  \n",
       "4        (41.886297242, -87.761750709)  \n",
       "...                                ...  \n",
       "1456709   (41.849222028, -87.69155551)  \n",
       "1456710   (41.760743949, -87.63333531)  \n",
       "1456711  (41.779234743, -87.685207125)  \n",
       "1456712  (41.745251975, -87.552773464)  \n",
       "1456713   (41.75830866, -87.620658418)  \n",
       "\n",
       "[1456714 rows x 25 columns]"
      ]
     },
     "execution_count": 22,
     "metadata": {},
     "output_type": "execute_result"
    }
   ],
   "source": [
    "df"
   ]
  },
  {
   "cell_type": "markdown",
   "id": "5ef7ab0b",
   "metadata": {},
   "source": [
    "### Data Cleaning"
   ]
  },
  {
   "cell_type": "code",
   "execution_count": 23,
   "id": "96dd4e5d",
   "metadata": {},
   "outputs": [],
   "source": [
    "df = df.dropna()"
   ]
  },
  {
   "cell_type": "code",
   "execution_count": 24,
   "id": "de8a0441",
   "metadata": {},
   "outputs": [
    {
     "data": {
      "text/html": [
       "<div>\n",
       "<style scoped>\n",
       "    .dataframe tbody tr th:only-of-type {\n",
       "        vertical-align: middle;\n",
       "    }\n",
       "\n",
       "    .dataframe tbody tr th {\n",
       "        vertical-align: top;\n",
       "    }\n",
       "\n",
       "    .dataframe thead th {\n",
       "        text-align: right;\n",
       "    }\n",
       "</style>\n",
       "<table border=\"1\" class=\"dataframe\">\n",
       "  <thead>\n",
       "    <tr style=\"text-align: right;\">\n",
       "      <th></th>\n",
       "      <th>Unnamed: 0</th>\n",
       "      <th>Unnamed: 0.1</th>\n",
       "      <th>Unnamed: 0.1.1</th>\n",
       "      <th>ID</th>\n",
       "      <th>Case Number</th>\n",
       "      <th>Date</th>\n",
       "      <th>Block</th>\n",
       "      <th>IUCR</th>\n",
       "      <th>Primary Type</th>\n",
       "      <th>Description</th>\n",
       "      <th>...</th>\n",
       "      <th>Ward</th>\n",
       "      <th>Community Area</th>\n",
       "      <th>FBI Code</th>\n",
       "      <th>X Coordinate</th>\n",
       "      <th>Y Coordinate</th>\n",
       "      <th>Year</th>\n",
       "      <th>Updated On</th>\n",
       "      <th>Latitude</th>\n",
       "      <th>Longitude</th>\n",
       "      <th>Location</th>\n",
       "    </tr>\n",
       "  </thead>\n",
       "  <tbody>\n",
       "    <tr>\n",
       "      <th>0</th>\n",
       "      <td>0</td>\n",
       "      <td>0</td>\n",
       "      <td>3</td>\n",
       "      <td>10508693</td>\n",
       "      <td>HZ250496</td>\n",
       "      <td>05/03/2016 11:40:00 PM</td>\n",
       "      <td>013XX S SAWYER AVE</td>\n",
       "      <td>0486</td>\n",
       "      <td>BATTERY</td>\n",
       "      <td>DOMESTIC BATTERY SIMPLE</td>\n",
       "      <td>...</td>\n",
       "      <td>24.0</td>\n",
       "      <td>29.0</td>\n",
       "      <td>08B</td>\n",
       "      <td>1154907.0</td>\n",
       "      <td>1893681.0</td>\n",
       "      <td>2016</td>\n",
       "      <td>05/10/2016 03:56:50 PM</td>\n",
       "      <td>41.864073</td>\n",
       "      <td>-87.706819</td>\n",
       "      <td>(41.864073157, -87.706818608)</td>\n",
       "    </tr>\n",
       "    <tr>\n",
       "      <th>1</th>\n",
       "      <td>1</td>\n",
       "      <td>1</td>\n",
       "      <td>89</td>\n",
       "      <td>10508695</td>\n",
       "      <td>HZ250409</td>\n",
       "      <td>05/03/2016 09:40:00 PM</td>\n",
       "      <td>061XX S DREXEL AVE</td>\n",
       "      <td>0486</td>\n",
       "      <td>BATTERY</td>\n",
       "      <td>DOMESTIC BATTERY SIMPLE</td>\n",
       "      <td>...</td>\n",
       "      <td>20.0</td>\n",
       "      <td>42.0</td>\n",
       "      <td>08B</td>\n",
       "      <td>1183066.0</td>\n",
       "      <td>1864330.0</td>\n",
       "      <td>2016</td>\n",
       "      <td>05/10/2016 03:56:50 PM</td>\n",
       "      <td>41.782922</td>\n",
       "      <td>-87.604363</td>\n",
       "      <td>(41.782921527, -87.60436317)</td>\n",
       "    </tr>\n",
       "    <tr>\n",
       "      <th>2</th>\n",
       "      <td>2</td>\n",
       "      <td>2</td>\n",
       "      <td>197</td>\n",
       "      <td>10508697</td>\n",
       "      <td>HZ250503</td>\n",
       "      <td>05/03/2016 11:31:00 PM</td>\n",
       "      <td>053XX W CHICAGO AVE</td>\n",
       "      <td>0470</td>\n",
       "      <td>PUBLIC PEACE VIOLATION</td>\n",
       "      <td>RECKLESS CONDUCT</td>\n",
       "      <td>...</td>\n",
       "      <td>37.0</td>\n",
       "      <td>25.0</td>\n",
       "      <td>24</td>\n",
       "      <td>1140789.0</td>\n",
       "      <td>1904819.0</td>\n",
       "      <td>2016</td>\n",
       "      <td>05/10/2016 03:56:50 PM</td>\n",
       "      <td>41.894908</td>\n",
       "      <td>-87.758372</td>\n",
       "      <td>(41.894908283, -87.758371958)</td>\n",
       "    </tr>\n",
       "    <tr>\n",
       "      <th>3</th>\n",
       "      <td>3</td>\n",
       "      <td>3</td>\n",
       "      <td>673</td>\n",
       "      <td>10508698</td>\n",
       "      <td>HZ250424</td>\n",
       "      <td>05/03/2016 10:10:00 PM</td>\n",
       "      <td>049XX W FULTON ST</td>\n",
       "      <td>0460</td>\n",
       "      <td>BATTERY</td>\n",
       "      <td>SIMPLE</td>\n",
       "      <td>...</td>\n",
       "      <td>28.0</td>\n",
       "      <td>25.0</td>\n",
       "      <td>08B</td>\n",
       "      <td>1143223.0</td>\n",
       "      <td>1901475.0</td>\n",
       "      <td>2016</td>\n",
       "      <td>05/10/2016 03:56:50 PM</td>\n",
       "      <td>41.885687</td>\n",
       "      <td>-87.749516</td>\n",
       "      <td>(41.885686845, -87.749515983)</td>\n",
       "    </tr>\n",
       "    <tr>\n",
       "      <th>4</th>\n",
       "      <td>4</td>\n",
       "      <td>4</td>\n",
       "      <td>911</td>\n",
       "      <td>10508699</td>\n",
       "      <td>HZ250455</td>\n",
       "      <td>05/03/2016 10:00:00 PM</td>\n",
       "      <td>003XX N LOTUS AVE</td>\n",
       "      <td>0820</td>\n",
       "      <td>THEFT</td>\n",
       "      <td>$500 AND UNDER</td>\n",
       "      <td>...</td>\n",
       "      <td>28.0</td>\n",
       "      <td>25.0</td>\n",
       "      <td>06</td>\n",
       "      <td>1139890.0</td>\n",
       "      <td>1901675.0</td>\n",
       "      <td>2016</td>\n",
       "      <td>05/10/2016 03:56:50 PM</td>\n",
       "      <td>41.886297</td>\n",
       "      <td>-87.761751</td>\n",
       "      <td>(41.886297242, -87.761750709)</td>\n",
       "    </tr>\n",
       "    <tr>\n",
       "      <th>...</th>\n",
       "      <td>...</td>\n",
       "      <td>...</td>\n",
       "      <td>...</td>\n",
       "      <td>...</td>\n",
       "      <td>...</td>\n",
       "      <td>...</td>\n",
       "      <td>...</td>\n",
       "      <td>...</td>\n",
       "      <td>...</td>\n",
       "      <td>...</td>\n",
       "      <td>...</td>\n",
       "      <td>...</td>\n",
       "      <td>...</td>\n",
       "      <td>...</td>\n",
       "      <td>...</td>\n",
       "      <td>...</td>\n",
       "      <td>...</td>\n",
       "      <td>...</td>\n",
       "      <td>...</td>\n",
       "      <td>...</td>\n",
       "      <td>...</td>\n",
       "    </tr>\n",
       "    <tr>\n",
       "      <th>1456709</th>\n",
       "      <td>1456709</td>\n",
       "      <td>1456709</td>\n",
       "      <td>6250330</td>\n",
       "      <td>10508679</td>\n",
       "      <td>HZ250507</td>\n",
       "      <td>05/03/2016 11:33:00 PM</td>\n",
       "      <td>026XX W 23RD PL</td>\n",
       "      <td>0486</td>\n",
       "      <td>BATTERY</td>\n",
       "      <td>DOMESTIC BATTERY SIMPLE</td>\n",
       "      <td>...</td>\n",
       "      <td>28.0</td>\n",
       "      <td>30.0</td>\n",
       "      <td>08B</td>\n",
       "      <td>1159105.0</td>\n",
       "      <td>1888300.0</td>\n",
       "      <td>2016</td>\n",
       "      <td>05/10/2016 03:56:50 PM</td>\n",
       "      <td>41.849222</td>\n",
       "      <td>-87.691556</td>\n",
       "      <td>(41.849222028, -87.69155551)</td>\n",
       "    </tr>\n",
       "    <tr>\n",
       "      <th>1456710</th>\n",
       "      <td>1456710</td>\n",
       "      <td>1456710</td>\n",
       "      <td>6251089</td>\n",
       "      <td>10508680</td>\n",
       "      <td>HZ250491</td>\n",
       "      <td>05/03/2016 11:30:00 PM</td>\n",
       "      <td>073XX S HARVARD AVE</td>\n",
       "      <td>1310</td>\n",
       "      <td>CRIMINAL DAMAGE</td>\n",
       "      <td>TO PROPERTY</td>\n",
       "      <td>...</td>\n",
       "      <td>17.0</td>\n",
       "      <td>69.0</td>\n",
       "      <td>14</td>\n",
       "      <td>1175230.0</td>\n",
       "      <td>1856183.0</td>\n",
       "      <td>2016</td>\n",
       "      <td>05/10/2016 03:56:50 PM</td>\n",
       "      <td>41.760744</td>\n",
       "      <td>-87.633335</td>\n",
       "      <td>(41.760743949, -87.63333531)</td>\n",
       "    </tr>\n",
       "    <tr>\n",
       "      <th>1456711</th>\n",
       "      <td>1456711</td>\n",
       "      <td>1456711</td>\n",
       "      <td>6251349</td>\n",
       "      <td>10508681</td>\n",
       "      <td>HZ250479</td>\n",
       "      <td>05/03/2016 12:15:00 AM</td>\n",
       "      <td>024XX W 63RD ST</td>\n",
       "      <td>041A</td>\n",
       "      <td>BATTERY</td>\n",
       "      <td>AGGRAVATED: HANDGUN</td>\n",
       "      <td>...</td>\n",
       "      <td>15.0</td>\n",
       "      <td>66.0</td>\n",
       "      <td>04B</td>\n",
       "      <td>1161027.0</td>\n",
       "      <td>1862810.0</td>\n",
       "      <td>2016</td>\n",
       "      <td>05/10/2016 03:56:50 PM</td>\n",
       "      <td>41.779235</td>\n",
       "      <td>-87.685207</td>\n",
       "      <td>(41.779234743, -87.685207125)</td>\n",
       "    </tr>\n",
       "    <tr>\n",
       "      <th>1456712</th>\n",
       "      <td>1456712</td>\n",
       "      <td>1456712</td>\n",
       "      <td>6253257</td>\n",
       "      <td>10508690</td>\n",
       "      <td>HZ250370</td>\n",
       "      <td>05/03/2016 09:07:00 PM</td>\n",
       "      <td>082XX S EXCHANGE AVE</td>\n",
       "      <td>0486</td>\n",
       "      <td>BATTERY</td>\n",
       "      <td>DOMESTIC BATTERY SIMPLE</td>\n",
       "      <td>...</td>\n",
       "      <td>7.0</td>\n",
       "      <td>46.0</td>\n",
       "      <td>08B</td>\n",
       "      <td>1197261.0</td>\n",
       "      <td>1850727.0</td>\n",
       "      <td>2016</td>\n",
       "      <td>05/10/2016 03:56:50 PM</td>\n",
       "      <td>41.745252</td>\n",
       "      <td>-87.552773</td>\n",
       "      <td>(41.745251975, -87.552773464)</td>\n",
       "    </tr>\n",
       "    <tr>\n",
       "      <th>1456713</th>\n",
       "      <td>1456713</td>\n",
       "      <td>1456713</td>\n",
       "      <td>6253474</td>\n",
       "      <td>10508692</td>\n",
       "      <td>HZ250517</td>\n",
       "      <td>05/03/2016 11:38:00 PM</td>\n",
       "      <td>001XX E 75TH ST</td>\n",
       "      <td>5007</td>\n",
       "      <td>OTHER OFFENSE</td>\n",
       "      <td>OTHER WEAPONS VIOLATION</td>\n",
       "      <td>...</td>\n",
       "      <td>6.0</td>\n",
       "      <td>69.0</td>\n",
       "      <td>26</td>\n",
       "      <td>1178696.0</td>\n",
       "      <td>1855324.0</td>\n",
       "      <td>2016</td>\n",
       "      <td>05/10/2016 03:56:50 PM</td>\n",
       "      <td>41.758309</td>\n",
       "      <td>-87.620658</td>\n",
       "      <td>(41.75830866, -87.620658418)</td>\n",
       "    </tr>\n",
       "  </tbody>\n",
       "</table>\n",
       "<p>1418365 rows × 25 columns</p>\n",
       "</div>"
      ],
      "text/plain": [
       "         Unnamed: 0  Unnamed: 0.1  Unnamed: 0.1.1        ID Case Number  \\\n",
       "0                 0             0               3  10508693    HZ250496   \n",
       "1                 1             1              89  10508695    HZ250409   \n",
       "2                 2             2             197  10508697    HZ250503   \n",
       "3                 3             3             673  10508698    HZ250424   \n",
       "4                 4             4             911  10508699    HZ250455   \n",
       "...             ...           ...             ...       ...         ...   \n",
       "1456709     1456709       1456709         6250330  10508679    HZ250507   \n",
       "1456710     1456710       1456710         6251089  10508680    HZ250491   \n",
       "1456711     1456711       1456711         6251349  10508681    HZ250479   \n",
       "1456712     1456712       1456712         6253257  10508690    HZ250370   \n",
       "1456713     1456713       1456713         6253474  10508692    HZ250517   \n",
       "\n",
       "                           Date                 Block  IUCR  \\\n",
       "0        05/03/2016 11:40:00 PM    013XX S SAWYER AVE  0486   \n",
       "1        05/03/2016 09:40:00 PM    061XX S DREXEL AVE  0486   \n",
       "2        05/03/2016 11:31:00 PM   053XX W CHICAGO AVE  0470   \n",
       "3        05/03/2016 10:10:00 PM     049XX W FULTON ST  0460   \n",
       "4        05/03/2016 10:00:00 PM     003XX N LOTUS AVE  0820   \n",
       "...                         ...                   ...   ...   \n",
       "1456709  05/03/2016 11:33:00 PM       026XX W 23RD PL  0486   \n",
       "1456710  05/03/2016 11:30:00 PM   073XX S HARVARD AVE  1310   \n",
       "1456711  05/03/2016 12:15:00 AM       024XX W 63RD ST  041A   \n",
       "1456712  05/03/2016 09:07:00 PM  082XX S EXCHANGE AVE  0486   \n",
       "1456713  05/03/2016 11:38:00 PM       001XX E 75TH ST  5007   \n",
       "\n",
       "                   Primary Type              Description  ...  Ward  \\\n",
       "0                       BATTERY  DOMESTIC BATTERY SIMPLE  ...  24.0   \n",
       "1                       BATTERY  DOMESTIC BATTERY SIMPLE  ...  20.0   \n",
       "2        PUBLIC PEACE VIOLATION         RECKLESS CONDUCT  ...  37.0   \n",
       "3                       BATTERY                   SIMPLE  ...  28.0   \n",
       "4                         THEFT           $500 AND UNDER  ...  28.0   \n",
       "...                         ...                      ...  ...   ...   \n",
       "1456709                 BATTERY  DOMESTIC BATTERY SIMPLE  ...  28.0   \n",
       "1456710         CRIMINAL DAMAGE              TO PROPERTY  ...  17.0   \n",
       "1456711                 BATTERY      AGGRAVATED: HANDGUN  ...  15.0   \n",
       "1456712                 BATTERY  DOMESTIC BATTERY SIMPLE  ...   7.0   \n",
       "1456713           OTHER OFFENSE  OTHER WEAPONS VIOLATION  ...   6.0   \n",
       "\n",
       "         Community Area  FBI Code  X Coordinate  Y Coordinate  Year  \\\n",
       "0                  29.0       08B     1154907.0     1893681.0  2016   \n",
       "1                  42.0       08B     1183066.0     1864330.0  2016   \n",
       "2                  25.0        24     1140789.0     1904819.0  2016   \n",
       "3                  25.0       08B     1143223.0     1901475.0  2016   \n",
       "4                  25.0        06     1139890.0     1901675.0  2016   \n",
       "...                 ...       ...           ...           ...   ...   \n",
       "1456709            30.0       08B     1159105.0     1888300.0  2016   \n",
       "1456710            69.0        14     1175230.0     1856183.0  2016   \n",
       "1456711            66.0       04B     1161027.0     1862810.0  2016   \n",
       "1456712            46.0       08B     1197261.0     1850727.0  2016   \n",
       "1456713            69.0        26     1178696.0     1855324.0  2016   \n",
       "\n",
       "                     Updated On   Latitude  Longitude  \\\n",
       "0        05/10/2016 03:56:50 PM  41.864073 -87.706819   \n",
       "1        05/10/2016 03:56:50 PM  41.782922 -87.604363   \n",
       "2        05/10/2016 03:56:50 PM  41.894908 -87.758372   \n",
       "3        05/10/2016 03:56:50 PM  41.885687 -87.749516   \n",
       "4        05/10/2016 03:56:50 PM  41.886297 -87.761751   \n",
       "...                         ...        ...        ...   \n",
       "1456709  05/10/2016 03:56:50 PM  41.849222 -87.691556   \n",
       "1456710  05/10/2016 03:56:50 PM  41.760744 -87.633335   \n",
       "1456711  05/10/2016 03:56:50 PM  41.779235 -87.685207   \n",
       "1456712  05/10/2016 03:56:50 PM  41.745252 -87.552773   \n",
       "1456713  05/10/2016 03:56:50 PM  41.758309 -87.620658   \n",
       "\n",
       "                              Location  \n",
       "0        (41.864073157, -87.706818608)  \n",
       "1         (41.782921527, -87.60436317)  \n",
       "2        (41.894908283, -87.758371958)  \n",
       "3        (41.885686845, -87.749515983)  \n",
       "4        (41.886297242, -87.761750709)  \n",
       "...                                ...  \n",
       "1456709   (41.849222028, -87.69155551)  \n",
       "1456710   (41.760743949, -87.63333531)  \n",
       "1456711  (41.779234743, -87.685207125)  \n",
       "1456712  (41.745251975, -87.552773464)  \n",
       "1456713   (41.75830866, -87.620658418)  \n",
       "\n",
       "[1418365 rows x 25 columns]"
      ]
     },
     "execution_count": 24,
     "metadata": {},
     "output_type": "execute_result"
    }
   ],
   "source": [
    "df.drop_duplicates(keep='first')"
   ]
  },
  {
   "cell_type": "code",
   "execution_count": 25,
   "id": "37a9e3f8",
   "metadata": {},
   "outputs": [],
   "source": [
    "df['Date'] = pd.DatetimeIndex(df['Date'])"
   ]
  },
  {
   "cell_type": "code",
   "execution_count": 26,
   "id": "7bd8b533",
   "metadata": {},
   "outputs": [],
   "source": [
    "df['Day'] = df['Date'].dt.day_of_week"
   ]
  },
  {
   "cell_type": "code",
   "execution_count": 27,
   "id": "e5d12be0",
   "metadata": {},
   "outputs": [],
   "source": [
    "df['Month'] = pd.DatetimeIndex(df['Date']).month"
   ]
  },
  {
   "cell_type": "code",
   "execution_count": 28,
   "id": "7d7d3bf3",
   "metadata": {},
   "outputs": [],
   "source": [
    "# selecting important varibales\n",
    "selected_cols = ['Arrest', 'Primary Type', 'Domestic', 'Community Area', 'Day', 'Month']\n",
    "df = df[selected_cols]"
   ]
  },
  {
   "cell_type": "code",
   "execution_count": 29,
   "id": "85290a6c",
   "metadata": {},
   "outputs": [
    {
     "data": {
      "text/html": [
       "<div>\n",
       "<style scoped>\n",
       "    .dataframe tbody tr th:only-of-type {\n",
       "        vertical-align: middle;\n",
       "    }\n",
       "\n",
       "    .dataframe tbody tr th {\n",
       "        vertical-align: top;\n",
       "    }\n",
       "\n",
       "    .dataframe thead th {\n",
       "        text-align: right;\n",
       "    }\n",
       "</style>\n",
       "<table border=\"1\" class=\"dataframe\">\n",
       "  <thead>\n",
       "    <tr style=\"text-align: right;\">\n",
       "      <th></th>\n",
       "      <th>Arrest</th>\n",
       "      <th>Primary Type</th>\n",
       "      <th>Domestic</th>\n",
       "      <th>Community Area</th>\n",
       "      <th>Day</th>\n",
       "      <th>Month</th>\n",
       "    </tr>\n",
       "  </thead>\n",
       "  <tbody>\n",
       "    <tr>\n",
       "      <th>0</th>\n",
       "      <td>True</td>\n",
       "      <td>BATTERY</td>\n",
       "      <td>True</td>\n",
       "      <td>29.0</td>\n",
       "      <td>1</td>\n",
       "      <td>5</td>\n",
       "    </tr>\n",
       "    <tr>\n",
       "      <th>1</th>\n",
       "      <td>False</td>\n",
       "      <td>BATTERY</td>\n",
       "      <td>True</td>\n",
       "      <td>42.0</td>\n",
       "      <td>1</td>\n",
       "      <td>5</td>\n",
       "    </tr>\n",
       "    <tr>\n",
       "      <th>2</th>\n",
       "      <td>False</td>\n",
       "      <td>PUBLIC PEACE VIOLATION</td>\n",
       "      <td>False</td>\n",
       "      <td>25.0</td>\n",
       "      <td>1</td>\n",
       "      <td>5</td>\n",
       "    </tr>\n",
       "    <tr>\n",
       "      <th>3</th>\n",
       "      <td>False</td>\n",
       "      <td>BATTERY</td>\n",
       "      <td>False</td>\n",
       "      <td>25.0</td>\n",
       "      <td>1</td>\n",
       "      <td>5</td>\n",
       "    </tr>\n",
       "    <tr>\n",
       "      <th>4</th>\n",
       "      <td>False</td>\n",
       "      <td>THEFT</td>\n",
       "      <td>True</td>\n",
       "      <td>25.0</td>\n",
       "      <td>1</td>\n",
       "      <td>5</td>\n",
       "    </tr>\n",
       "    <tr>\n",
       "      <th>...</th>\n",
       "      <td>...</td>\n",
       "      <td>...</td>\n",
       "      <td>...</td>\n",
       "      <td>...</td>\n",
       "      <td>...</td>\n",
       "      <td>...</td>\n",
       "    </tr>\n",
       "    <tr>\n",
       "      <th>1456709</th>\n",
       "      <td>True</td>\n",
       "      <td>BATTERY</td>\n",
       "      <td>True</td>\n",
       "      <td>30.0</td>\n",
       "      <td>1</td>\n",
       "      <td>5</td>\n",
       "    </tr>\n",
       "    <tr>\n",
       "      <th>1456710</th>\n",
       "      <td>True</td>\n",
       "      <td>CRIMINAL DAMAGE</td>\n",
       "      <td>True</td>\n",
       "      <td>69.0</td>\n",
       "      <td>1</td>\n",
       "      <td>5</td>\n",
       "    </tr>\n",
       "    <tr>\n",
       "      <th>1456711</th>\n",
       "      <td>False</td>\n",
       "      <td>BATTERY</td>\n",
       "      <td>False</td>\n",
       "      <td>66.0</td>\n",
       "      <td>1</td>\n",
       "      <td>5</td>\n",
       "    </tr>\n",
       "    <tr>\n",
       "      <th>1456712</th>\n",
       "      <td>False</td>\n",
       "      <td>BATTERY</td>\n",
       "      <td>True</td>\n",
       "      <td>46.0</td>\n",
       "      <td>1</td>\n",
       "      <td>5</td>\n",
       "    </tr>\n",
       "    <tr>\n",
       "      <th>1456713</th>\n",
       "      <td>True</td>\n",
       "      <td>OTHER OFFENSE</td>\n",
       "      <td>False</td>\n",
       "      <td>69.0</td>\n",
       "      <td>1</td>\n",
       "      <td>5</td>\n",
       "    </tr>\n",
       "  </tbody>\n",
       "</table>\n",
       "<p>1418365 rows × 6 columns</p>\n",
       "</div>"
      ],
      "text/plain": [
       "         Arrest            Primary Type  Domestic  Community Area  Day  Month\n",
       "0          True                 BATTERY      True            29.0    1      5\n",
       "1         False                 BATTERY      True            42.0    1      5\n",
       "2         False  PUBLIC PEACE VIOLATION     False            25.0    1      5\n",
       "3         False                 BATTERY     False            25.0    1      5\n",
       "4         False                   THEFT      True            25.0    1      5\n",
       "...         ...                     ...       ...             ...  ...    ...\n",
       "1456709    True                 BATTERY      True            30.0    1      5\n",
       "1456710    True         CRIMINAL DAMAGE      True            69.0    1      5\n",
       "1456711   False                 BATTERY     False            66.0    1      5\n",
       "1456712   False                 BATTERY      True            46.0    1      5\n",
       "1456713    True           OTHER OFFENSE     False            69.0    1      5\n",
       "\n",
       "[1418365 rows x 6 columns]"
      ]
     },
     "execution_count": 29,
     "metadata": {},
     "output_type": "execute_result"
    }
   ],
   "source": [
    "df"
   ]
  },
  {
   "cell_type": "code",
   "execution_count": 30,
   "id": "3c50a307",
   "metadata": {},
   "outputs": [],
   "source": [
    "for col in df.columns:\n",
    "    df[col] = df[col].astype(\"category\")"
   ]
  },
  {
   "cell_type": "code",
   "execution_count": 31,
   "id": "47bfe620",
   "metadata": {},
   "outputs": [],
   "source": [
    "df_enc = pd.get_dummies(df)"
   ]
  },
  {
   "cell_type": "markdown",
   "id": "9757a66e",
   "metadata": {},
   "source": [
    "### Model Building and Optimization of Hyperparameters"
   ]
  },
  {
   "cell_type": "code",
   "execution_count": 32,
   "id": "d4374756",
   "metadata": {},
   "outputs": [],
   "source": [
    "X = df_enc.drop(['Arrest_True', 'Arrest_False'], axis=1)"
   ]
  },
  {
   "cell_type": "code",
   "execution_count": 33,
   "id": "49e6467b",
   "metadata": {},
   "outputs": [],
   "source": [
    "Y = df_enc['Arrest_True']"
   ]
  },
  {
   "cell_type": "code",
   "execution_count": 34,
   "id": "21d47ed3",
   "metadata": {},
   "outputs": [],
   "source": [
    "from sklearn.model_selection import train_test_split"
   ]
  },
  {
   "cell_type": "code",
   "execution_count": 35,
   "id": "0f6847cc",
   "metadata": {},
   "outputs": [],
   "source": [
    "X_train, X_test, y_train, y_test = train_test_split(X, Y, test_size=0.25, random_state=0)"
   ]
  },
  {
   "cell_type": "code",
   "execution_count": 36,
   "id": "1983a901",
   "metadata": {},
   "outputs": [],
   "source": [
    "from sklearn.tree import DecisionTreeClassifier\n",
    "from sklearn.ensemble import VotingClassifier\n",
    "from sklearn.linear_model import LogisticRegression\n",
    "from sklearn.naive_bayes import GaussianNB"
   ]
  },
  {
   "cell_type": "markdown",
   "id": "7103ec34",
   "metadata": {},
   "source": [
    "### Optimization of Hyperparameters"
   ]
  },
  {
   "cell_type": "code",
   "execution_count": 37,
   "id": "93423749",
   "metadata": {},
   "outputs": [],
   "source": [
    "from sklearn.model_selection import GridSearchCV"
   ]
  },
  {
   "cell_type": "code",
   "execution_count": 38,
   "id": "8561f91d",
   "metadata": {},
   "outputs": [],
   "source": [
    "tree_para = {'criterion':['gini','entropy'],'max_depth':[10,20,30,40]}"
   ]
  },
  {
   "cell_type": "code",
   "execution_count": 39,
   "id": "fe471b0b",
   "metadata": {},
   "outputs": [],
   "source": [
    "gs = GridSearchCV(DecisionTreeClassifier(), tree_para)"
   ]
  },
  {
   "cell_type": "code",
   "execution_count": 40,
   "id": "8fca81e7",
   "metadata": {},
   "outputs": [
    {
     "data": {
      "text/plain": [
       "GridSearchCV(estimator=DecisionTreeClassifier(),\n",
       "             param_grid={'criterion': ['gini', 'entropy'],\n",
       "                         'max_depth': [10, 20, 30, 40]})"
      ]
     },
     "execution_count": 40,
     "metadata": {},
     "output_type": "execute_result"
    }
   ],
   "source": [
    "gs.fit(X_train, y_train)"
   ]
  },
  {
   "cell_type": "code",
   "execution_count": 41,
   "id": "70c4486e",
   "metadata": {},
   "outputs": [
    {
     "name": "stdout",
     "output_type": "stream",
     "text": [
      "DecisionTreeClassifier(max_depth=10)\n"
     ]
    }
   ],
   "source": [
    "print(gs.best_estimator_)"
   ]
  },
  {
   "cell_type": "code",
   "execution_count": 42,
   "id": "2c75a9bf",
   "metadata": {},
   "outputs": [
    {
     "data": {
      "text/plain": [
       "{'criterion': 'gini', 'max_depth': 10}"
      ]
     },
     "execution_count": 42,
     "metadata": {},
     "output_type": "execute_result"
    }
   ],
   "source": [
    "gs.best_params_"
   ]
  },
  {
   "cell_type": "code",
   "execution_count": 45,
   "id": "7491c9ab",
   "metadata": {},
   "outputs": [],
   "source": [
    "gslr = GridSearchCV(LogisticRegression(), {'penalty': ['l1','l2'], 'C': [0.1, 1]})"
   ]
  },
  {
   "cell_type": "code",
   "execution_count": 46,
   "id": "fbea4b86",
   "metadata": {},
   "outputs": [
    {
     "data": {
      "text/plain": [
       "GridSearchCV(estimator=LogisticRegression(),\n",
       "             param_grid={'C': [0.1, 1], 'penalty': ['l1', 'l2']})"
      ]
     },
     "execution_count": 46,
     "metadata": {},
     "output_type": "execute_result"
    }
   ],
   "source": [
    "gslr.fit(X_train, y_train)"
   ]
  },
  {
   "cell_type": "code",
   "execution_count": 47,
   "id": "092d43d9",
   "metadata": {},
   "outputs": [
    {
     "data": {
      "text/plain": [
       "LogisticRegression(C=1)"
      ]
     },
     "execution_count": 47,
     "metadata": {},
     "output_type": "execute_result"
    }
   ],
   "source": [
    "gslr.best_estimator_"
   ]
  },
  {
   "cell_type": "code",
   "execution_count": 48,
   "id": "fb028625",
   "metadata": {},
   "outputs": [
    {
     "data": {
      "text/plain": [
       "{'C': 1, 'penalty': 'l2'}"
      ]
     },
     "execution_count": 48,
     "metadata": {},
     "output_type": "execute_result"
    }
   ],
   "source": [
    "gslr.best_params_"
   ]
  },
  {
   "cell_type": "code",
   "execution_count": 49,
   "id": "2a2e5bf2",
   "metadata": {},
   "outputs": [],
   "source": [
    "from sklearn.naive_bayes import GaussianNB"
   ]
  },
  {
   "cell_type": "code",
   "execution_count": 51,
   "id": "224f59a9",
   "metadata": {},
   "outputs": [],
   "source": [
    "import numpy as np"
   ]
  },
  {
   "cell_type": "code",
   "execution_count": 55,
   "id": "648d7543",
   "metadata": {},
   "outputs": [],
   "source": [
    "param_grid_nb = {\n",
    "    'var_smoothing': np.logspace(0,-9, num=4)\n",
    "}\n",
    "gsnb = GridSearchCV(estimator=GaussianNB(), param_grid=param_grid_nb)"
   ]
  },
  {
   "cell_type": "code",
   "execution_count": 57,
   "id": "b88ddcdc",
   "metadata": {},
   "outputs": [
    {
     "data": {
      "text/plain": [
       "GridSearchCV(estimator=GaussianNB(),\n",
       "             param_grid={'var_smoothing': [1.0, 0.001, 1e-06, 1e-09]})"
      ]
     },
     "execution_count": 57,
     "metadata": {},
     "output_type": "execute_result"
    }
   ],
   "source": [
    "gsnb.fit(X_train, y_train)"
   ]
  },
  {
   "cell_type": "code",
   "execution_count": 58,
   "id": "39661b1a",
   "metadata": {},
   "outputs": [
    {
     "data": {
      "text/plain": [
       "GaussianNB()"
      ]
     },
     "execution_count": 58,
     "metadata": {},
     "output_type": "execute_result"
    }
   ],
   "source": [
    "gsnb.best_estimator_"
   ]
  },
  {
   "cell_type": "code",
   "execution_count": 59,
   "id": "3d993054",
   "metadata": {},
   "outputs": [
    {
     "data": {
      "text/plain": [
       "{'var_smoothing': 1e-09}"
      ]
     },
     "execution_count": 59,
     "metadata": {},
     "output_type": "execute_result"
    }
   ],
   "source": [
    "gsnb.best_params_"
   ]
  },
  {
   "cell_type": "markdown",
   "id": "303fff76",
   "metadata": {},
   "source": [
    "### Model Building"
   ]
  },
  {
   "cell_type": "code",
   "execution_count": 71,
   "id": "50d37bff",
   "metadata": {},
   "outputs": [],
   "source": [
    "dt = DecisionTreeClassifier(max_depth=10)"
   ]
  },
  {
   "cell_type": "code",
   "execution_count": 72,
   "id": "720d6b87",
   "metadata": {},
   "outputs": [],
   "source": [
    "lr = LogisticRegression(C=1, penalty='l2')"
   ]
  },
  {
   "cell_type": "code",
   "execution_count": 73,
   "id": "1aa0bbb1",
   "metadata": {},
   "outputs": [],
   "source": [
    "gnb = GaussianNB(var_smoothing= 1e-09)"
   ]
  },
  {
   "cell_type": "code",
   "execution_count": 69,
   "id": "42998edc",
   "metadata": {},
   "outputs": [],
   "source": [
    "from sklearn.ensemble import VotingClassifier"
   ]
  },
  {
   "cell_type": "code",
   "execution_count": 74,
   "id": "37affbbf",
   "metadata": {},
   "outputs": [],
   "source": [
    "estimators = [('LR', lr), ('DTC', dt), ('GNB', gnb)]"
   ]
  },
  {
   "cell_type": "code",
   "execution_count": 76,
   "id": "fe62961e",
   "metadata": {},
   "outputs": [
    {
     "data": {
      "text/plain": [
       "VotingClassifier(estimators=[('LR', LogisticRegression(C=1)),\n",
       "                             ('DTC', DecisionTreeClassifier(max_depth=10)),\n",
       "                             ('GNB', GaussianNB())])"
      ]
     },
     "execution_count": 76,
     "metadata": {},
     "output_type": "execute_result"
    }
   ],
   "source": [
    "vot_hard = VotingClassifier(estimators = estimators, voting ='hard')\n",
    "vot_hard.fit(X_train, y_train)"
   ]
  },
  {
   "cell_type": "markdown",
   "id": "c1cd2fc8",
   "metadata": {},
   "source": [
    "### Model Evaluation"
   ]
  },
  {
   "cell_type": "code",
   "execution_count": 77,
   "id": "662a6cac",
   "metadata": {},
   "outputs": [],
   "source": [
    "y_predict = vot_hard.predict(X_test)"
   ]
  },
  {
   "cell_type": "code",
   "execution_count": 78,
   "id": "b300604c",
   "metadata": {},
   "outputs": [],
   "source": [
    "from sklearn.metrics import confusion_matrix, accuracy_score, classification_report"
   ]
  },
  {
   "cell_type": "code",
   "execution_count": 79,
   "id": "2285bcb5",
   "metadata": {},
   "outputs": [
    {
     "data": {
      "text/plain": [
       "0.8643737027344103"
      ]
     },
     "execution_count": 79,
     "metadata": {},
     "output_type": "execute_result"
    }
   ],
   "source": [
    "accuracy_score(y_test, y_predict)"
   ]
  },
  {
   "cell_type": "code",
   "execution_count": 80,
   "id": "77300b77",
   "metadata": {},
   "outputs": [
    {
     "data": {
      "text/plain": [
       "array([[257066,  43508],\n",
       "       [  4584,  49434]], dtype=int64)"
      ]
     },
     "execution_count": 80,
     "metadata": {},
     "output_type": "execute_result"
    }
   ],
   "source": [
    "confusion_matrix(y_predict, y_test)"
   ]
  },
  {
   "cell_type": "code",
   "execution_count": 81,
   "id": "2f5dc38c",
   "metadata": {},
   "outputs": [
    {
     "name": "stdout",
     "output_type": "stream",
     "text": [
      "              precision    recall  f1-score   support\n",
      "\n",
      "           0       0.86      0.98      0.91    261650\n",
      "           1       0.92      0.53      0.67     92942\n",
      "\n",
      "    accuracy                           0.86    354592\n",
      "   macro avg       0.89      0.76      0.79    354592\n",
      "weighted avg       0.87      0.86      0.85    354592\n",
      "\n"
     ]
    }
   ],
   "source": [
    "print(classification_report(y_test, y_predict))"
   ]
  },
  {
   "cell_type": "markdown",
   "id": "53dd5d8a",
   "metadata": {},
   "source": [
    "### Model Saving"
   ]
  },
  {
   "cell_type": "code",
   "execution_count": 82,
   "id": "8d6a6190",
   "metadata": {},
   "outputs": [],
   "source": [
    "import joblib"
   ]
  },
  {
   "cell_type": "code",
   "execution_count": 83,
   "id": "d2b31e76",
   "metadata": {},
   "outputs": [
    {
     "data": {
      "text/plain": [
       "['dt.joblib']"
      ]
     },
     "execution_count": 83,
     "metadata": {},
     "output_type": "execute_result"
    }
   ],
   "source": [
    "joblib.dump(vot_hard, 'dt.joblib')"
   ]
  },
  {
   "cell_type": "markdown",
   "id": "89f3411a",
   "metadata": {},
   "source": [
    "### Saving Column Names in json to access in backend"
   ]
  },
  {
   "cell_type": "code",
   "execution_count": 84,
   "id": "ccc00d43",
   "metadata": {},
   "outputs": [],
   "source": [
    "import json"
   ]
  },
  {
   "cell_type": "code",
   "execution_count": 85,
   "id": "5b449fce",
   "metadata": {},
   "outputs": [],
   "source": [
    "with open('cols.json', 'w') as f:\n",
    "    json.dump({'column_names': list(X_test.columns)}, f)"
   ]
  },
  {
   "cell_type": "code",
   "execution_count": null,
   "id": "f6f171a5",
   "metadata": {},
   "outputs": [],
   "source": []
  }
 ],
 "metadata": {
  "kernelspec": {
   "display_name": "Python 3 (ipykernel)",
   "language": "python",
   "name": "python3"
  },
  "language_info": {
   "codemirror_mode": {
    "name": "ipython",
    "version": 3
   },
   "file_extension": ".py",
   "mimetype": "text/x-python",
   "name": "python",
   "nbconvert_exporter": "python",
   "pygments_lexer": "ipython3",
   "version": "3.9.9"
  }
 },
 "nbformat": 4,
 "nbformat_minor": 5
}
